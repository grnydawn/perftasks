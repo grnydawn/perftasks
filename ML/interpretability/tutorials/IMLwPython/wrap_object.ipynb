{
 "cells": [
  {
   "cell_type": "markdown",
   "metadata": {},
   "source": [
    "wrap object"
   ]
  },
  {
   "cell_type": "code",
   "execution_count": 1,
   "metadata": {},
   "outputs": [],
   "source": [
    "def wrap_object(instance):\n",
    "    \n",
    "    class wrapped(type(instance)):\n",
    "\n",
    "        __metaclass__ = type\n",
    "\n",
    "        def __getattribute__(self, attr):\n",
    "\n",
    "            self_dict = object.__getattribute__(type(self), '__dict__')\n",
    "\n",
    "            if attr in self_dict:\n",
    "\n",
    "                return self_dict[attr]\n",
    "\n",
    "            return getattr(instance, attr)\n",
    "\n",
    "    return wrapped()"
   ]
  },
  {
   "cell_type": "code",
   "execution_count": 5,
   "metadata": {},
   "outputs": [
    {
     "name": "stdout",
     "output_type": "stream",
     "text": [
      "<class 'int'>\n",
      "0\n"
     ]
    }
   ],
   "source": [
    "intlit = wrap_object(1)\n",
    "print(intlit.__class__)\n",
    "print(str(intlit))"
   ]
  },
  {
   "cell_type": "code",
   "execution_count": 8,
   "metadata": {},
   "outputs": [
    {
     "name": "stdout",
     "output_type": "stream",
     "text": [
      "<class 'dict'>\n",
      "{}\n"
     ]
    }
   ],
   "source": [
    "d = { 1:2, 3:4}\n",
    "dval = wrap_object(d)\n",
    "print(dval.__class__)\n",
    "print(dval)"
   ]
  },
  {
   "cell_type": "code",
   "execution_count": null,
   "metadata": {},
   "outputs": [],
   "source": []
  }
 ],
 "metadata": {
  "kernelspec": {
   "display_name": "Python 3",
   "language": "python",
   "name": "python3"
  },
  "language_info": {
   "codemirror_mode": {
    "name": "ipython",
    "version": 3
   },
   "file_extension": ".py",
   "mimetype": "text/x-python",
   "name": "python",
   "nbconvert_exporter": "python",
   "pygments_lexer": "ipython3",
   "version": "3.6.3"
  }
 },
 "nbformat": 4,
 "nbformat_minor": 2
}
